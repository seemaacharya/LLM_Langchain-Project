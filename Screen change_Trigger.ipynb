{
 "cells": [
  {
   "cell_type": "markdown",
   "id": "6af06723-6b7a-487f-bbbd-d4ba89150462",
   "metadata": {},
   "source": [
    "# Using Langchain, when a user asks Aina to start the routine, return some trigger to the mobile app so that we can change the screen and show the routine to the user\n"
   ]
  },
  {
   "cell_type": "code",
   "execution_count": 8,
   "id": "bf78c361-2a8d-405a-97ad-c15cd296fe44",
   "metadata": {},
   "outputs": [
    {
     "name": "stdout",
     "output_type": "stream",
     "text": [
      "Name: langchain-openai\n",
      "Version: 0.0.5\n",
      "Summary: An integration package connecting OpenAI and LangChain\n",
      "Home-page: https://github.com/langchain-ai/langchain\n",
      "Author: \n",
      "Author-email: \n",
      "License: MIT\n",
      "Location: /home/jupyter-seema/.local/lib/python3.10/site-packages\n",
      "Requires: langchain-core, numpy, openai, tiktoken\n",
      "Required-by: \n",
      "Note: you may need to restart the kernel to use updated packages.\n"
     ]
    }
   ],
   "source": [
    "pip show langchain_openai"
   ]
  },
  {
   "cell_type": "code",
   "execution_count": 6,
   "id": "9f07cf9d-1f54-407d-9eb3-3a7566a6436a",
   "metadata": {},
   "outputs": [],
   "source": [
    "from langchain_openai import OpenAI"
   ]
  },
  {
   "cell_type": "code",
   "execution_count": 2,
   "id": "68875edd-357b-4ccc-89ae-db7ff18fa07d",
   "metadata": {},
   "outputs": [
    {
     "name": "stderr",
     "output_type": "stream",
     "text": [
      "/home/jupyter-daniel/.local/lib/python3.10/site-packages/langchain_core/_api/deprecation.py:117: LangChainDeprecationWarning: The function `__call__` was deprecated in LangChain 0.1.0 and will be removed in 0.2.0. Use invoke instead.\n",
      "  warn_deprecated(\n"
     ]
    },
    {
     "name": "stdout",
     "output_type": "stream",
     "text": [
      "\n",
      "\n",
      "\u001b[1m> Entering new LLMChain chain...\u001b[0m\n",
      "Prompt after formatting:\n",
      "\u001b[32;1m\u001b[1;3m\n",
      "Hi, I am your personal AI assistant from AINA! How may I assist you today?\n",
      "\n",
      "A skincare routine has the following 7 steps:\n",
      "\n",
      "1. Cleanser\n",
      "2. Exfoliator\n",
      "3. Toner\n",
      "4. Serum\n",
      "5. Eye cream\n",
      "6. Moisturizer\n",
      "7. Sunscreen\n",
      "\n",
      "Recommend actual skincare products based on the user's preferences, considering their name, age, gender, and skin tone.\n",
      "\n",
      "Always output in JSON in this format: {\"step #\": \"product name\"}\n",
      "\n",
      "Context: Name: Amanda, Age: 34, Gender: Female, Skin Tone: dry\n",
      "\n",
      "Question: What is the best skincare routine for Amanda, a 34-year-old Female with dry skin?\n",
      "\n",
      "Please answer just like a human, and ask any additional queries to fine-tune your response for a more personalized answer.\n",
      "\u001b[0m\n",
      "\n",
      "\u001b[1m> Finished chain.\u001b[0m\n",
      "Sending skincare routine to mobile app via https://yourapi.com/updateRoutine with data: {'name': 'Amanda', 'age': '34', 'gender': 'Female', 'skin_tone': 'dry', 'user_request': 'Please provide a skincare routine.', 'routine_history': '', 'skincare_routine': '\"\"\"\\n# Let\\'s begin by writing the response as a function\\ndef skincare_routine(name, age, gender, skin_tone):\\n    routine = {}\\n    # First, we will add cleansers\\n    routine[\"Step 1\"] = \"Cleanser\"\\n    if skin_tone == \"dry\":\\n        routine[\"Step 1.1\"] = \"Cerave Hydrating Cleanser\"\\n    elif skin_tone == \"oily\":\\n        routine[\"Step 1.1\"] = \"Cetaphil Daily Facial Cleanser\"\\n    elif skin_tone == \"normal\":\\n        routine[\"Step 1.1\"] = \"La Roche-Posay Toleriane Hydrating Gentle Cleanser\"\\n    else:\\n        routine[\"Step 1.1\"] = \"Cerave Hydrating Cleanser\"\\n\\n    # Second, we will add exfoliators\\n    routine[\"Step 2\"] = \"Exfoliator\"\\n    if skin_tone == \"dry\":\\n        routine[\"Step 2.1\"] = \"The Body Shop Vitamin C Glow Boosting Microdermabrasion Exfoliator\"\\n    elif skin_tone == \"oily\":\\n        routine[\"Step 2.1\"] = \"St.'}\n",
      "Trigger sent: Skincare routine has been sent to the mobile app.\n",
      "Skincare Routine for Amanda:\n",
      "{'name': 'Amanda', 'age': '34', 'gender': 'Female', 'skin_tone': 'dry', 'user_request': 'Please provide a skincare routine.', 'routine_history': '', 'skincare_routine': '\"\"\"\\n# Let\\'s begin by writing the response as a function\\ndef skincare_routine(name, age, gender, skin_tone):\\n    routine = {}\\n    # First, we will add cleansers\\n    routine[\"Step 1\"] = \"Cleanser\"\\n    if skin_tone == \"dry\":\\n        routine[\"Step 1.1\"] = \"Cerave Hydrating Cleanser\"\\n    elif skin_tone == \"oily\":\\n        routine[\"Step 1.1\"] = \"Cetaphil Daily Facial Cleanser\"\\n    elif skin_tone == \"normal\":\\n        routine[\"Step 1.1\"] = \"La Roche-Posay Toleriane Hydrating Gentle Cleanser\"\\n    else:\\n        routine[\"Step 1.1\"] = \"Cerave Hydrating Cleanser\"\\n\\n    # Second, we will add exfoliators\\n    routine[\"Step 2\"] = \"Exfoliator\"\\n    if skin_tone == \"dry\":\\n        routine[\"Step 2.1\"] = \"The Body Shop Vitamin C Glow Boosting Microdermabrasion Exfoliator\"\\n    elif skin_tone == \"oily\":\\n        routine[\"Step 2.1\"] = \"St.'}\n"
     ]
    }
   ],
   "source": [
    "import os\n",
    "import chromadb\n",
    "from langchain_openai import AzureOpenAI, AzureOpenAIEmbeddings\n",
    "from langchain.chains import SequentialChain, LLMChain\n",
    "from langchain.prompts import PromptTemplate\n",
    "from langchain.memory import ConversationBufferMemory\n",
    "from langchain_community.vectorstores import Chroma\n",
    "\n",
    "# Environment configuration\n",
    "os.environ[\"OPENAI_API_TYPE\"] = \"azure\"\n",
    "os.environ[\"OPENAI_API_VERSION\"] = \"2023-05-15\"\n",
    "os.environ[\"OPENAI_API_KEY\"] = \"549d3edec7cb431dbdcf18a6abdbb1a2\"\n",
    "os.environ[\"AZURE_OPENAI_ENDPOINT\"] = \"https://seema.openai.azure.com/\"\n",
    "\n",
    "# Embedding and database setup\n",
    "embeddings = AzureOpenAIEmbeddings(azure_deployment=\"seema-embedding\")\n",
    "client = chromadb.HttpClient(host=\"20.118.32.222\", port=8000)\n",
    "vectordb = Chroma(embedding_function=embeddings, collection_name=\"Amanda\", client=client)\n",
    "vectordb.add_texts([\"I have sensitive skin\", \"I like L'Oreal products\", \"Never recommend me sunscreen\"])\n",
    "\n",
    "# Skincare routine prompt template\n",
    "prompt_template = \"\"\"\n",
    "Hi, I am your personal AI assistant from AINA! How may I assist you today?\n",
    "\n",
    "A skincare routine has the following 7 steps:\n",
    "\n",
    "1. Cleanser\n",
    "2. Exfoliator\n",
    "3. Toner\n",
    "4. Serum\n",
    "5. Eye cream\n",
    "6. Moisturizer\n",
    "7. Sunscreen\n",
    "\n",
    "Recommend actual skincare products based on the user's preferences, considering their name, age, gender, and skin tone.\n",
    "\n",
    "Always output in JSON in this format: {{\"step #\": \"product name\"}}\n",
    "\n",
    "Context: Name: {name}, Age: {age}, Gender: {gender}, Skin Tone: {skin_tone}\n",
    "\n",
    "Question: What is the best skincare routine for {name}, a {age}-year-old {gender} with {skin_tone} skin?\n",
    "\n",
    "Please answer just like a human, and ask any additional queries to fine-tune your response for a more personalized answer.\n",
    "\"\"\"\n",
    "\n",
    "skincare_routine_prompt = PromptTemplate(\n",
    "    input_variables=['name', 'age', 'gender', 'skin_tone'],\n",
    "    template=prompt_template\n",
    ")\n",
    "\n",
    "skincare_memory = ConversationBufferMemory(input_key='skin_tone', memory_key='routine_history')\n",
    "llm = OpenAI(temperature=0.8)\n",
    "\n",
    "# DJ corrected\n",
    "llm = AzureOpenAI(deployment_name=\"seema-deployment\")\n",
    "\n",
    "skincare_chain = LLMChain(llm=llm, prompt=skincare_routine_prompt, verbose=True, output_key='skincare_routine', memory=skincare_memory)\n",
    "\n",
    "# TriggerMobileAppChain definition\n",
    "class TriggerMobileAppChain:\n",
    "    def __init__(self, backend_api_endpoint):\n",
    "        self.backend_api_endpoint = backend_api_endpoint\n",
    "\n",
    "    def process(self, input_data):\n",
    "        print(f\"Sending skincare routine to mobile app via {self.backend_api_endpoint} with data: {input_data}\")\n",
    "        # Placeholder for actual HTTP POST request logic\n",
    "        return input_data\n",
    "\n",
    "# Sequential chain setup\n",
    "def execute_chains(input_data):\n",
    "    # Execute the skincare chain\n",
    "    skincare_result = skincare_chain(input_data)\n",
    "    \n",
    "    # Check if a skincare routine was provided in the user request\n",
    "    if \"skincare routine\" in input_data.get('user_request', '').lower():\n",
    "        # Assuming skincare_result contains the desired output directly\n",
    "        # Trigger the mobile app chain with the skincare result\n",
    "        trigger_chain = TriggerMobileAppChain(backend_api_endpoint=\"https://yourapi.com/updateRoutine\")\n",
    "        trigger_chain.process(skincare_result)  # Process method is for demonstration; adapt as needed\n",
    "        print(\"Trigger sent: Skincare routine has been sent to the mobile app.\")\n",
    "    else:\n",
    "        print(\"No trigger: The user did not request a skincare routine.\")\n",
    "    \n",
    "    return skincare_result\n",
    "\n",
    "\n",
    "# Example input handling logic\n",
    "user_request = \"Please provide a skincare routine.\"\n",
    "if \"skincare routine\" in user_request.lower():\n",
    "    input_details = {\n",
    "        \"name\": \"Amanda\",\n",
    "        \"age\": \"34\",\n",
    "        \"gender\": \"Female\",\n",
    "        \"skin_tone\": \"dry\",\n",
    "        \"user_request\": user_request\n",
    "    }\n",
    "    result = execute_chains(input_details)\n",
    "    print(f\"Skincare Routine for {input_details['name']}:\")\n",
    "    print(result)\n",
    "else:\n",
    "    print(\"No trigger. Responding based on skin type or other query.\")\n"
   ]
  },
  {
   "cell_type": "code",
   "execution_count": null,
   "id": "c7a0b02d-32ea-4e31-9dcd-d8d930543dc2",
   "metadata": {},
   "outputs": [],
   "source": []
  },
  {
   "cell_type": "code",
   "execution_count": null,
   "id": "63964c05-f4ca-4238-90c4-ed09d7457d4f",
   "metadata": {},
   "outputs": [],
   "source": []
  }
 ],
 "metadata": {
  "kernelspec": {
   "display_name": "Python 3 (ipykernel)",
   "language": "python",
   "name": "python3"
  },
  "language_info": {
   "codemirror_mode": {
    "name": "ipython",
    "version": 3
   },
   "file_extension": ".py",
   "mimetype": "text/x-python",
   "name": "python",
   "nbconvert_exporter": "python",
   "pygments_lexer": "ipython3",
   "version": "3.10.10"
  }
 },
 "nbformat": 4,
 "nbformat_minor": 5
}

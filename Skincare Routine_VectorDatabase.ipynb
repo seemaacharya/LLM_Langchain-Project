{
 "cells": [
  {
   "cell_type": "code",
   "execution_count": null,
   "id": "57f847c3-8528-4186-a265-1a071361534b",
   "metadata": {},
   "outputs": [],
   "source": [
    "# To generate the skincare routine for the user"
   ]
  },
  {
   "cell_type": "code",
   "execution_count": 3,
   "id": "da5ec305-9661-455b-88d4-c5edeb296e49",
   "metadata": {},
   "outputs": [
    {
     "name": "stdout",
     "output_type": "stream",
     "text": [
      "Defaulting to user installation because normal site-packages is not writeable\n",
      "Requirement already satisfied: langchain-openai in /home/jupyter-seema/.local/lib/python3.10/site-packages (0.0.5)\n",
      "Requirement already satisfied: langchain-core<0.2,>=0.1.16 in /home/jupyter-seema/.local/lib/python3.10/site-packages (from langchain-openai) (0.1.17)\n",
      "Requirement already satisfied: numpy<2,>=1 in /home/jupyter-seema/.local/lib/python3.10/site-packages (from langchain-openai) (1.26.3)\n",
      "Requirement already satisfied: openai<2.0.0,>=1.10.0 in /home/jupyter-seema/.local/lib/python3.10/site-packages (from langchain-openai) (1.11.1)\n",
      "Requirement already satisfied: tiktoken<0.6.0,>=0.5.2 in /home/jupyter-seema/.local/lib/python3.10/site-packages (from langchain-openai) (0.5.2)\n",
      "Requirement already satisfied: PyYAML>=5.3 in /opt/tljh/user/lib/python3.10/site-packages (from langchain-core<0.2,>=0.1.16->langchain-openai) (6.0.1)\n",
      "Requirement already satisfied: anyio<5,>=3 in /home/jupyter-seema/.local/lib/python3.10/site-packages (from langchain-core<0.2,>=0.1.16->langchain-openai) (3.7.1)\n",
      "Requirement already satisfied: jsonpatch<2.0,>=1.33 in /opt/tljh/user/lib/python3.10/site-packages (from langchain-core<0.2,>=0.1.16->langchain-openai) (1.33)\n",
      "Requirement already satisfied: langsmith<0.1,>=0.0.83 in /opt/tljh/user/lib/python3.10/site-packages (from langchain-core<0.2,>=0.1.16->langchain-openai) (0.0.83)\n",
      "Requirement already satisfied: packaging<24.0,>=23.2 in /opt/tljh/user/lib/python3.10/site-packages (from langchain-core<0.2,>=0.1.16->langchain-openai) (23.2)\n",
      "Requirement already satisfied: pydantic<3,>=1 in /opt/tljh/user/lib/python3.10/site-packages (from langchain-core<0.2,>=0.1.16->langchain-openai) (1.10.13)\n",
      "Requirement already satisfied: requests<3,>=2 in /opt/tljh/user/lib/python3.10/site-packages (from langchain-core<0.2,>=0.1.16->langchain-openai) (2.31.0)\n",
      "Requirement already satisfied: tenacity<9.0.0,>=8.1.0 in /opt/tljh/user/lib/python3.10/site-packages (from langchain-core<0.2,>=0.1.16->langchain-openai) (8.2.3)\n",
      "Requirement already satisfied: distro<2,>=1.7.0 in /opt/tljh/user/lib/python3.10/site-packages (from openai<2.0.0,>=1.10.0->langchain-openai) (1.9.0)\n",
      "Requirement already satisfied: httpx<1,>=0.23.0 in /opt/tljh/user/lib/python3.10/site-packages (from openai<2.0.0,>=1.10.0->langchain-openai) (0.26.0)\n",
      "Requirement already satisfied: sniffio in /opt/tljh/user/lib/python3.10/site-packages (from openai<2.0.0,>=1.10.0->langchain-openai) (1.3.0)\n",
      "Requirement already satisfied: tqdm>4 in /opt/tljh/user/lib/python3.10/site-packages (from openai<2.0.0,>=1.10.0->langchain-openai) (4.65.0)\n",
      "Requirement already satisfied: typing-extensions<5,>=4.7 in /opt/tljh/user/lib/python3.10/site-packages (from openai<2.0.0,>=1.10.0->langchain-openai) (4.9.0)\n",
      "Requirement already satisfied: regex>=2022.1.18 in /opt/tljh/user/lib/python3.10/site-packages (from tiktoken<0.6.0,>=0.5.2->langchain-openai) (2023.12.25)\n",
      "Requirement already satisfied: idna>=2.8 in /opt/tljh/user/lib/python3.10/site-packages (from anyio<5,>=3->langchain-core<0.2,>=0.1.16->langchain-openai) (3.4)\n",
      "Requirement already satisfied: exceptiongroup in /opt/tljh/user/lib/python3.10/site-packages (from anyio<5,>=3->langchain-core<0.2,>=0.1.16->langchain-openai) (1.2.0)\n",
      "Requirement already satisfied: certifi in /opt/tljh/user/lib/python3.10/site-packages (from httpx<1,>=0.23.0->openai<2.0.0,>=1.10.0->langchain-openai) (2023.11.17)\n",
      "Requirement already satisfied: httpcore==1.* in /opt/tljh/user/lib/python3.10/site-packages (from httpx<1,>=0.23.0->openai<2.0.0,>=1.10.0->langchain-openai) (1.0.2)\n",
      "Requirement already satisfied: h11<0.15,>=0.13 in /opt/tljh/user/lib/python3.10/site-packages (from httpcore==1.*->httpx<1,>=0.23.0->openai<2.0.0,>=1.10.0->langchain-openai) (0.14.0)\n",
      "Requirement already satisfied: jsonpointer>=1.9 in /opt/tljh/user/lib/python3.10/site-packages (from jsonpatch<2.0,>=1.33->langchain-core<0.2,>=0.1.16->langchain-openai) (2.4)\n",
      "Requirement already satisfied: charset-normalizer<4,>=2 in /opt/tljh/user/lib/python3.10/site-packages (from requests<3,>=2->langchain-core<0.2,>=0.1.16->langchain-openai) (3.1.0)\n",
      "Requirement already satisfied: urllib3<3,>=1.21.1 in /opt/tljh/user/lib/python3.10/site-packages (from requests<3,>=2->langchain-core<0.2,>=0.1.16->langchain-openai) (1.26.15)\n",
      "Note: you may need to restart the kernel to use updated packages.\n"
     ]
    }
   ],
   "source": [
    "pip install langchain-openai"
   ]
  },
  {
   "cell_type": "code",
   "execution_count": 4,
   "id": "da57d056-e430-472b-a205-9c7a25213155",
   "metadata": {},
   "outputs": [],
   "source": [
    "from langchain_openai import OpenAI"
   ]
  },
  {
   "cell_type": "code",
   "execution_count": 5,
   "id": "0f46fd0e-2f7f-44cd-9b89-5f7c59540f76",
   "metadata": {},
   "outputs": [],
   "source": [
    "import chromadb\n"
   ]
  },
  {
   "cell_type": "code",
   "execution_count": 6,
   "id": "c1dee3b3-eff5-4eb3-b67a-94b741ca0e24",
   "metadata": {},
   "outputs": [
    {
     "name": "stdin",
     "output_type": "stream",
     "text": [
      "Enter your name:  Amanda\n",
      "Enter your age:  34\n",
      "Enter your gender:  female\n",
      "Enter your skin tone type:  oily\n"
     ]
    },
    {
     "name": "stdout",
     "output_type": "stream",
     "text": [
      "\n",
      "\n",
      "\u001b[1m> Entering new SequentialChain chain...\u001b[0m\n",
      "\n",
      "\n",
      "\u001b[1m> Entering new LLMChain chain...\u001b[0m\n",
      "Prompt after formatting:\n",
      "\u001b[32;1m\u001b[1;3m\n",
      "Hi, I am your personal AI assistant from AINA! How may I assist you today?\n",
      "\n",
      "A skincare routine has the following 7 steps:\n",
      "\n",
      "1. Cleanser\n",
      "2. Exfoliator\n",
      "3. Toner\n",
      "4. Serum\n",
      "5. Eye cream\n",
      "6. Moisturizer\n",
      "7. Sunscreen\n",
      "\n",
      "Recommend actual skincare products based on the user's preferences, considering their name, age, gender, and skin tone.\n",
      "\n",
      "Always output in JSON in this format: {\"step #\": \"product name\"}\n",
      "\n",
      "Context: Name: Amanda, Age: 34, Gender: female, Skin Tone: oily\n",
      "\n",
      "Question: What is the best skincare routine for Amanda, a 34-year-old female with oily skin?\n",
      "\n",
      "Please answer just like a human, and ask any additional queries to fine-tune your response for a more personalized answer.\n",
      "\u001b[0m\n",
      "\n",
      "\u001b[1m> Finished chain.\u001b[0m\n",
      "\n",
      "\u001b[1m> Finished chain.\u001b[0m\n",
      "Skincare Routine for Amanda:\n",
      "\n",
      "Based on Amanda's age, gender, and skin type, here is a recommended skincare routine:\n",
      "\n",
      "1. Cleanser: \"Garnier SkinActive Micellar Foaming Face Wash\" \n",
      "2. Exfoliator: \"The Ordinary Salicylic Acid 2% Solution\"\n",
      "3. Toner: \"Thayers Witch Hazel Facial Toner\" \n",
      "4. Serum: \"CeraVe Hydrating Hyaluronic Acid Serum\" \n",
      "5. Eye cream: \"Neutrogena Hydro Boost Eye Gel-Cream\" \n",
      "6. Moisturizer: \"Cetaphil Pro Oil Absorbing Moisturizer\" \n",
      "7. Sunscreen: \"La Roche-Posay Anthelios Clear Skin Sunscreen SPF 60\"\n",
      "\n",
      "Please let me know if you have any specific preferences for certain ingredients or brands, and I will be happy to provide more personalized recommendations.\n"
     ]
    }
   ],
   "source": [
    "import os\n",
    "from Password import openai_key  # Importing openai_key from Password.py\n",
    "from langchain.llms import OpenAI\n",
    "from langchain import PromptTemplate\n",
    "from langchain.chains import LLMChain, SequentialChain\n",
    "from langchain.memory import ConversationBufferMemory\n",
    "from langchain_community.vectorstores import Chroma\n",
    "from langchain_openai import OpenAIEmbeddings\n",
    "\n",
    "# Set OpenAI API key\n",
    "os.environ[\"OPENAI_API_KEY\"] = openai_key  # Using the imported openai_key\n",
    "\n",
    "# Initialize embeddings and Chroma vector database\n",
    "embeddings = OpenAIEmbeddings()\n",
    "vectordb = Chroma(embedding_function=embeddings, collection_name=\"Amanda\", persist_directory=\"chroma_persist\")\n",
    "\n",
    "# Add texts to Chroma\n",
    "vectors = vectordb.add_texts([\"I have sensitive skin\", \"I like l'Oreal products\", \"Never recommend me sunscreen\"])\n",
    "\n",
    "# Define a custom prompt template for skincare routines\n",
    "prompt_template = \"\"\"\n",
    "Hi, I am your personal AI assistant from AINA! How may I assist you today?\n",
    "\n",
    "A skincare routine has the following 7 steps:\n",
    "\n",
    "1. Cleanser\n",
    "2. Exfoliator\n",
    "3. Toner\n",
    "4. Serum\n",
    "5. Eye cream\n",
    "6. Moisturizer\n",
    "7. Sunscreen\n",
    "\n",
    "Recommend actual skincare products based on the user's preferences, considering their name, age, gender, and skin tone.\n",
    "\n",
    "Always output in JSON in this format: {{\"step #\": \"product name\"}}\n",
    "\n",
    "Context: Name: {name}, Age: {age}, Gender: {gender}, Skin Tone: {skin_tone}\n",
    "\n",
    "Question: What is the best skincare routine for {name}, a {age}-year-old {gender} with {skin_tone} skin?\n",
    "\n",
    "Please answer just like a human, and ask any additional queries to fine-tune your response for a more personalized answer.\n",
    "\"\"\"\n",
    "\n",
    "# Prompt Templates\n",
    "skincare_routine_prompt = PromptTemplate(\n",
    "    input_variables=['name', 'age', 'gender', 'skin_tone'],\n",
    "    template=prompt_template\n",
    ")\n",
    "\n",
    "# Memory management setup\n",
    "skincare_memory = ConversationBufferMemory(input_key='skin_tone', memory_key='routine_history')\n",
    "\n",
    "# Define and initialize LLM and Chains\n",
    "llm = OpenAI(temperature=0.8)\n",
    "skincare_chain = LLMChain(\n",
    "    llm=llm, prompt=skincare_routine_prompt, verbose=True, output_key='skincare_routine', memory=skincare_memory)\n",
    "\n",
    "parent_chain = SequentialChain(\n",
    "    chains=[skincare_chain], input_variables=['name', 'age', 'gender', 'skin_tone'], output_variables=['skincare_routine'], verbose=True)\n",
    "\n",
    "# Input handling updated for new variables\n",
    "input_details = {\n",
    "    \"name\": input(\"Enter your name: \").strip(),\n",
    "    \"age\": input(\"Enter your age: \").strip(),\n",
    "    \"gender\": input(\"Enter your gender: \").strip(),\n",
    "    \"skin_tone\": input(\"Enter your skin tone type: \").strip()\n",
    "}\n",
    "\n",
    "if all(input_details.values()):  # Ensuring all inputs are provided\n",
    "    result = parent_chain(input_details)\n",
    "    print(f\"Skincare Routine for {input_details['name']}:\")\n",
    "    print(result['skincare_routine'])\n",
    "\n",
    "    # Optionally, store the conversation in vectordb for future retrieval\n",
    "    vectordb.add_texts([result['skincare_routine']])\n",
    "else:\n",
    "    print(\"Please ensure all details (name, age, gender, skin tone) are entered.\")\n"
   ]
  },
  {
   "cell_type": "code",
   "execution_count": null,
   "id": "19a46406-84ae-485e-acdc-1b452c5dbc85",
   "metadata": {},
   "outputs": [],
   "source": []
  },
  {
   "cell_type": "code",
   "execution_count": null,
   "id": "a5920fdc-f8ae-4b59-91c9-1aacc0a0b032",
   "metadata": {},
   "outputs": [],
   "source": []
  },
  {
   "cell_type": "code",
   "execution_count": null,
   "id": "90b70be5-d4ef-4037-960a-c1c28a2ea49f",
   "metadata": {},
   "outputs": [],
   "source": []
  }
 ],
 "metadata": {
  "kernelspec": {
   "display_name": "Python 3 (ipykernel)",
   "language": "python",
   "name": "python3"
  },
  "language_info": {
   "codemirror_mode": {
    "name": "ipython",
    "version": 3
   },
   "file_extension": ".py",
   "mimetype": "text/x-python",
   "name": "python",
   "nbconvert_exporter": "python",
   "pygments_lexer": "ipython3",
   "version": "3.10.10"
  }
 },
 "nbformat": 4,
 "nbformat_minor": 5
}
